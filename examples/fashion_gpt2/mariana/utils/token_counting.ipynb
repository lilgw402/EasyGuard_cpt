{
 "cells": [
  {
   "cell_type": "code",
   "execution_count": 1,
   "id": "75167b02-f5cb-4fef-bdba-b0c980554c68",
   "metadata": {},
   "outputs": [
    {
     "name": "stdout",
     "output_type": "stream",
     "text": [
      "2023-02-23 16:55:02,859 WARNING 50131 [/mlx_devbox/users/yanshipeng/repo/182/mariana/mariana/data/gpt/tokenization.py:18]  Failed to import sentencepiece\n"
     ]
    }
   ],
   "source": [
    "from transformers import AutoTokenizer\n",
    "from cruise.utilities.hdfs_io import hlist_files, hcopy\n",
    "import os\n",
    "import os.path as osp\n",
    "import tempfile\n",
    "from mariana.data.gpt.tokenization import CasterTokenizer\n",
    "import pandas as pd\n",
    "import numpy as np\n",
    "\n",
    "tokenizer_type = 'bbpe' #'bbpe' \n",
    "data_type = 'hybrid'\n",
    "if data_type == 'hybrid':\n",
    "    data_path = 'hdfs://haruna/home/byte_data_aml_research/user/corpus_300B/sampled_v2.2.0/'\n",
    "elif data_type == 'english':\n",
    "    data_path = 'hdfs://haruna/home/byte_data_aml_research/user/corpus/sampled_v2.3.1/'"
   ]
  },
  {
   "cell_type": "code",
   "execution_count": 2,
   "id": "3c26da1e-7102-46b9-8ba6-41386c4a7156",
   "metadata": {
    "tags": []
   },
   "outputs": [
    {
     "name": "stderr",
     "output_type": "stream",
     "text": [
      "copyToLocal: `/tmp/fast_tokenizer_add_space_prefix_100k_code/fast_tokenizer_add_space_prefix_100k_code/special_tokens_map.json': File exists\n",
      "copyToLocal: `/tmp/fast_tokenizer_add_space_prefix_100k_code/fast_tokenizer_add_space_prefix_100k_code/tokenizer.json': File exists\n",
      "copyToLocal: `/tmp/fast_tokenizer_add_space_prefix_100k_code/fast_tokenizer_add_space_prefix_100k_code/tokenizer_config.json': File exists\n"
     ]
    }
   ],
   "source": [
    "if tokenizer_type == 'bbpe':\n",
    "    # tokenizer = 'hdfs://haruna/home/byte_data_aml_research/user/qian.xian/tokenizer/fast_tokenizer_libcut_v2'\n",
    "    # tokenizer = 'hdfs://haruna/home/byte_data_aml_research/user/qian.xian/tokenizer/gpt-neo'\n",
    "    # tokenizer = 'hdfs://haruna/home/byte_data_aml_research/user/qian.xian/tokenizer/fast_tokenizer50k_en'\n",
    "    # tokenizer = 'hdfs://haruna/home/byte_data_aml_research/user/qian.xian/tokenizer/fast_tokenizer_libcut_100k_code'\n",
    "    # tokenizer = 'hdfs://haruna/home/byte_data_aml_research/user/qian.xian/tokenizer/fast_tokenizer_100k_v2'\n",
    "    tokenizer = 'hdfs://haruna/home/byte_data_aml_research/user/qian.xian/fast_tokenizer_add_space_prefix_100k_code'\n",
    "elif tokenizer_type == 'caster':\n",
    "    tokenizer = 'hdfs://haruna/home/byte_data_aml_research/user/zhangzhi.joshua/tokenizer/zh_0620_newcut_caster_145665_lowercase'\n",
    "\n",
    "tmp_dir = osp.join(tempfile.gettempdir(), osp.basename(tokenizer))\n",
    "hcopy(tokenizer, tmp_dir)\n",
    "\n",
    "if tokenizer_type == 'bbpe':\n",
    "    tokenizer = AutoTokenizer.from_pretrained(tmp_dir)\n",
    "elif tokenizer_type == 'caster':\n",
    "    tokenizer = CasterTokenizer.from_pretrained(tmp_dir, max_len=-1)"
   ]
  },
  {
   "cell_type": "code",
   "execution_count": 3,
   "id": "6bb90a66-9d4d-4f5a-aaed-b73b72f829c5",
   "metadata": {
    "tags": []
   },
   "outputs": [],
   "source": [
    "files = hlist_files([data_path])\n",
    "import random\n",
    "random.seed(0)\n",
    "random.shuffle(files)\n",
    "subfiles = files[:30]"
   ]
  },
  {
   "cell_type": "code",
   "execution_count": 4,
   "id": "ae1e68cb-a922-446d-9812-d12a5379257d",
   "metadata": {
    "tags": []
   },
   "outputs": [],
   "source": [
    "from multiprocessing import Pool\n",
    "def count_tokens(subfile):\n",
    "    tmp_dir = tempfile.gettempdir()\n",
    "    local_file = osp.join(tmp_dir, osp.basename(subfile))\n",
    "    hcopy(subfile,  local_file)\n",
    "    data = pd.read_parquet(local_file)\n",
    "    tokens = [tokenizer.encode(x) for x in data['content_split']]\n",
    "    parquet_tokens = np.array([len(tokens[i]) for i in range(len(tokens))]).sum()\n",
    "    return parquet_tokens"
   ]
  },
  {
   "cell_type": "code",
   "execution_count": null,
   "id": "bab4c2a1-b054-4b90-9289-35092654bffe",
   "metadata": {
    "tags": []
   },
   "outputs": [
    {
     "name": "stderr",
     "output_type": "stream",
     "text": [
      "copyToLocal: `/tmp/part-08292-56bb4313-5e50-4293-a057-369db8d79bba-c000.gz.parquet': File exists\n",
      "copyToLocal: `/tmp/part-13028-56bb4313-5e50-4293-a057-369db8d79bba-c000.gz.parquet': File exists\n",
      "copyToLocal: `/tmp/part-18435-56bb4313-5e50-4293-a057-369db8d79bba-c000.gz.parquet': File exists\n",
      "copyToLocal: `/tmp/part-10024-56bb4313-5e50-4293-a057-369db8d79bba-c000.gz.parquet': File exists\n",
      "copyToLocal: `/tmp/part-09692-56bb4313-5e50-4293-a057-369db8d79bba-c000.gz.parquet': File exists\n",
      "copyToLocal: `/tmp/part-02183-56bb4313-5e50-4293-a057-369db8d79bba-c000.gz.parquet': File exists\n",
      "copyToLocal: `/tmp/part-01734-56bb4313-5e50-4293-a057-369db8d79bba-c000.gz.parquet': File exists\n",
      "copyToLocal: `/tmp/part-14212-56bb4313-5e50-4293-a057-369db8d79bba-c000.gz.parquet': File exists\n",
      "copyToLocal: `/tmp/part-02189-56bb4313-5e50-4293-a057-369db8d79bba-c000.gz.parquet': File exists\n",
      "copyToLocal: `/tmp/part-07742-56bb4313-5e50-4293-a057-369db8d79bba-c000.gz.parquet': File exists\n",
      "copyToLocal: `/tmp/part-10310-56bb4313-5e50-4293-a057-369db8d79bba-c000.gz.parquet': File exists\n",
      "copyToLocal: `/tmp/part-07377-56bb4313-5e50-4293-a057-369db8d79bba-c000.gz.parquet': File exists\n",
      "copyToLocal: `/tmp/part-14898-56bb4313-5e50-4293-a057-369db8d79bba-c000.gz.parquet': File exists\n",
      "copyToLocal: `/tmp/part-00969-56bb4313-5e50-4293-a057-369db8d79bba-c000.gz.parquet': File exists\n",
      "copyToLocal: `/tmp/part-02957-56bb4313-5e50-4293-a057-369db8d79bba-c000.gz.parquet': File exists\n",
      "copyToLocal: `/tmp/part-17149-56bb4313-5e50-4293-a057-369db8d79bba-c000.gz.parquet': File exists\n",
      "copyToLocal: `/tmp/part-16587-56bb4313-5e50-4293-a057-369db8d79bba-c000.gz.parquet': File exists\n",
      "copyToLocal: `/tmp/part-12644-56bb4313-5e50-4293-a057-369db8d79bba-c000.gz.parquet': File exists\n",
      "copyToLocal: `/tmp/part-00866-56bb4313-5e50-4293-a057-369db8d79bba-c000.gz.parquet': File exists\n",
      "copyToLocal: `/tmp/part-10333-56bb4313-5e50-4293-a057-369db8d79bba-c000.gz.parquet': File exists\n",
      "copyToLocal: `/tmp/part-06647-56bb4313-5e50-4293-a057-369db8d79bba-c000.gz.parquet': File exists\n",
      "copyToLocal: `/tmp/part-10569-56bb4313-5e50-4293-a057-369db8d79bba-c000.gz.parquet': File exists\n",
      "copyToLocal: `/tmp/part-02131-56bb4313-5e50-4293-a057-369db8d79bba-c000.gz.parquet': File exists\n",
      "copyToLocal: `/tmp/part-11251-56bb4313-5e50-4293-a057-369db8d79bba-c000.gz.parquet': File exists\n",
      "copyToLocal: `/tmp/part-13913-56bb4313-5e50-4293-a057-369db8d79bba-c000.gz.parquet': File exists\n",
      "copyToLocal: `/tmp/part-08991-56bb4313-5e50-4293-a057-369db8d79bba-c000.gz.parquet': File exists\n",
      "copyToLocal: `/tmp/part-05192-56bb4313-5e50-4293-a057-369db8d79bba-c000.gz.parquet': File exists\n",
      "copyToLocal: `/tmp/part-12813-56bb4313-5e50-4293-a057-369db8d79bba-c000.gz.parquet': File exists\n",
      "copyToLocal: `/tmp/part-07845-56bb4313-5e50-4293-a057-369db8d79bba-c000.gz.parquet': File exists\n",
      "copyToLocal: `/tmp/part-16470-56bb4313-5e50-4293-a057-369db8d79bba-c000.gz.parquet': File exists\n"
     ]
    }
   ],
   "source": [
    "with Pool(processes=30) as p:\n",
    "    results = p.map(count_tokens, subfiles)"
   ]
  },
  {
   "cell_type": "code",
   "execution_count": null,
   "id": "7b6d2bd4-b6d0-4ee8-a38b-76ef95e1f23a",
   "metadata": {
    "tags": []
   },
   "outputs": [],
   "source": [
    "len(files)/30*sum(results) / 1e9"
   ]
  },
  {
   "cell_type": "code",
   "execution_count": null,
   "id": "ee954bcc-5461-4295-bd29-1f62ac548c1c",
   "metadata": {
    "tags": []
   },
   "outputs": [],
   "source": [
    "247.76"
   ]
  },
  {
   "cell_type": "code",
   "execution_count": null,
   "id": "93684b8c-227d-4d1a-b8c3-c542b1ec14b3",
   "metadata": {},
   "outputs": [],
   "source": [
    "v2.2.0: 327.90B\n",
    "pile: 200.37B"
   ]
  }
 ],
 "metadata": {
  "kernelspec": {
   "display_name": "Merlin (Python3 + MLSQL) [Spark 3.0]",
   "language": "python",
   "name": "merlin_kernel"
  },
  "language_info": {
   "codemirror_mode": {
    "name": "ipython",
    "version": 3
   },
   "file_extension": ".py",
   "mimetype": "text/x-python",
   "name": "Python3 with MLSQL",
   "nbconvert_exporter": "python",
   "pygments_lexer": "ipython3",
   "version": "0.1"
  }
 },
 "nbformat": 4,
 "nbformat_minor": 5
}
